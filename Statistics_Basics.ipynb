{
  "nbformat": 4,
  "nbformat_minor": 0,
  "metadata": {
    "colab": {
      "provenance": []
    },
    "kernelspec": {
      "name": "python3",
      "display_name": "Python 3"
    },
    "language_info": {
      "name": "python"
    }
  },
  "cells": [
    {
      "cell_type": "markdown",
      "source": [
        "# Statistics Basics"
      ],
      "metadata": {
        "id": "_egX_fNaYX_a"
      }
    },
    {
      "cell_type": "markdown",
      "source": [
        "\n",
        "**Question 1: What is the difference between descriptive statistics and inferential statistics? Explain with examples.**  \n",
        "- Descriptive statistics involves summarizing and organizing data so that it can be easily understood. Common techniques include calculating measures such as the mean, median, mode, and standard deviation, or displaying data through charts and graphs. For example, if a teacher collects test scores from a class and calculates the average score and range, that’s descriptive statistics. Inferential statistics, on the other hand, goes beyond describing the data—it helps make predictions or generalizations about a larger population based on a sample. For instance, if researchers survey 100 people about their eating habits and then make conclusions about dietary patterns of an entire city, they are using inferential statistics.\n",
        "\n",
        "\n",
        "\n",
        "**Question 2: What is sampling in statistics? Explain the differences between random and stratified sampling.**  \n",
        "- Sampling is the process of selecting a subset of individuals from a population to represent the whole. It's used when it's impractical or impossible to study the entire population. Random sampling ensures that every member of the population has an equal chance of being selected, which helps reduce bias. For example, randomly choosing 50 people from a voter database. Stratified sampling, however, involves dividing the population into subgroups (strata) based on shared characteristics—like age or income level—and then selecting samples from each stratum proportionately. This method ensures representation from all key segments of the population and is useful when specific subgroups may have differing behaviors or opinions.\n",
        "\n",
        "\n",
        "\n",
        "**Question 3: Define mean, median, and mode. Explain why these measures of central tendency are important.**  \n",
        "- The mean is the arithmetic average of a dataset, found by adding all values and dividing by the total number of values. The median is the middle value when the data is sorted in order, and the mode is the most frequently occurring value in the dataset. These measures of central tendency are crucial in understanding the general behavior of data. They help identify the center point around which data points cluster. For example, businesses use the mean to analyze average sales, while the median can offer better insight when data is skewed, such as income distribution. The mode is useful for understanding consumer preferences, like the most popular product sold.\n",
        "\n",
        "\n",
        "**Question 4: Explain skewness and kurtosis. What does a positive skew imply about the data?**  \n",
        "- Skewness measures the asymmetry of the data distribution. A positive skew means the tail on the right side of the distribution is longer, indicating that the data has a higher number of relatively large values. Kurtosis refers to the \"tailedness\" of a distribution—how sharply peaked or flat the distribution is. High kurtosis indicates heavy tails and a sharp peak, suggesting outliers are more likely. Low kurtosis suggests a flatter distribution. A positively skewed dataset may imply that while most values are low or average, there are a few significantly high values pulling the mean to the right. Income data often shows positive skew because a small number of people earn disproportionately high salaries.\n",
        "\n",
        "\n",
        "\n"
      ],
      "metadata": {
        "id": "DKh9LroAYcNh"
      }
    },
    {
      "cell_type": "code",
      "source": [
        "# 5. Implement a Python program to compute the mean, median, and mode of a given list of numbers.\n",
        "\n",
        "import statistics\n",
        "\n",
        "numbers = [12, 15, 12, 18, 19, 12, 20, 22, 19, 19, 24, 24, 24, 26, 28]\n",
        "\n",
        "mean_val = statistics.mean(numbers)\n",
        "median_val = statistics.median(numbers)\n",
        "mode_val = statistics.mode(numbers)\n",
        "\n",
        "print(f\"Mean: {mean_val}\")\n",
        "print(f\"Median: {median_val}\")\n",
        "print(f\"Mode: {mode_val}\")"
      ],
      "metadata": {
        "colab": {
          "base_uri": "https://localhost:8080/"
        },
        "id": "VO76bygzZTCW",
        "outputId": "48ed109a-eb67-407d-a214-6e5fe04c0039"
      },
      "execution_count": 1,
      "outputs": [
        {
          "output_type": "stream",
          "name": "stdout",
          "text": [
            "Mean: 19.6\n",
            "Median: 19\n",
            "Mode: 12\n"
          ]
        }
      ]
    },
    {
      "cell_type": "code",
      "source": [
        "# 6. Compute the covariance and correlation coefficient between the following two datasets provided as lists in Python.\n",
        "\n",
        "import numpy as np\n",
        "\n",
        "list_x = [10, 20, 30, 40, 50]\n",
        "list_y = [15, 25, 35, 45, 60]\n",
        "\n",
        "cov_matrix = np.cov(list_x, list_y)\n",
        "correlation = np.corrcoef(list_x, list_y)\n",
        "\n",
        "print(\"Covariance matrix:\\n\", cov_matrix)\n",
        "print(\" \")\n",
        "print(\"Correlation coefficient:\\n\", correlation)"
      ],
      "metadata": {
        "colab": {
          "base_uri": "https://localhost:8080/"
        },
        "id": "3Qq_qSeXZr-t",
        "outputId": "84a09f06-b4b8-4b18-bac1-9005e4b7ba06"
      },
      "execution_count": 3,
      "outputs": [
        {
          "output_type": "stream",
          "name": "stdout",
          "text": [
            "Covariance matrix:\n",
            " [[250. 275.]\n",
            " [275. 305.]]\n",
            " \n",
            "Correlation coefficient:\n",
            " [[1.         0.99589321]\n",
            " [0.99589321 1.        ]]\n"
          ]
        }
      ]
    },
    {
      "cell_type": "code",
      "source": [
        "# 7.  Write a Python script to draw a boxplot for the following numeric list and identify its outliers. Explain the result.\n",
        "\n",
        "import matplotlib.pyplot as plt\n",
        "\n",
        "data = [12, 14, 14, 15, 18, 19, 19, 21, 22, 22, 23, 23, 24, 26, 29, 35]\n",
        "\n",
        "plt.boxplot(data)\n",
        "plt.title(\"Boxplot of Data\")\n",
        "plt.show()\n",
        "\n",
        "''' Explanation:\n",
        "The boxplot helps visualize the spread of the data and identify potential outliers.\n",
        "In this case, 35 may appear as an outlier because it lies significantly beyond the upper whisker.\n",
        "The box represents the interquartile range (IQR), and values outside 1.5 times the IQR are flagged as outliers.'''\n"
      ],
      "metadata": {
        "colab": {
          "base_uri": "https://localhost:8080/",
          "height": 452
        },
        "id": "gBn08cNcZ-nY",
        "outputId": "cf9e4dbd-8e5a-482b-a78b-4ca78a8b9a30"
      },
      "execution_count": 4,
      "outputs": [
        {
          "output_type": "display_data",
          "data": {
            "text/plain": [
              "<Figure size 640x480 with 1 Axes>"
            ],
            "image/png": "[encoded data removed]"
          },
          "metadata": {}
        }
      ]
    },
    {
      "cell_type": "code",
      "source": [
        "# 8. Explain how you would use covariance and correlation to explore the relationship between advertising spend and daily sales. Write Python code to compute the correlation.\n",
        "'''Covariance and correlation are statistical tools used to determine how two variables move together. Covariance indicates the direction of the relationship, while correlation measures both direction and strength.\n",
        " In analyzing advertising spend and daily sales, a high positive correlation would suggest that as advertising spend increases, daily sales also increase proportionately.'''\n",
        "\n",
        "import numpy as np\n",
        "\n",
        "advertising_spend = [200, 250, 300, 400, 500]\n",
        "daily_sales = [2200, 2450, 2750, 3200, 4000]\n",
        "\n",
        "correlation = np.corrcoef(advertising_spend, daily_sales)\n",
        "\n",
        "print(\"Correlation coefficient:\\n\", correlation)\n",
        "print(\" \")\n",
        "\n",
        "'''\n",
        "Interpretation:\n",
        "A correlation coefficient close to 1 indicates a strong positive relationship, confirming that higher advertising spend is closely associated with increased daily sales.\n",
        "'''\n"
      ],
      "metadata": {
        "colab": {
          "base_uri": "https://localhost:8080/",
          "height": 122
        },
        "id": "xRDM-l93aHUu",
        "outputId": "661b94e3-d5eb-4935-cc18-b73e014b702b"
      },
      "execution_count": 7,
      "outputs": [
        {
          "output_type": "stream",
          "name": "stdout",
          "text": [
            "Correlation coefficient:\n",
            " [[1.         0.99358241]\n",
            " [0.99358241 1.        ]]\n",
            " \n"
          ]
        },
        {
          "output_type": "execute_result",
          "data": {
            "text/plain": [
              "'\\nInterpretation:\\nA correlation coefficient close to 1 indicates a strong positive relationship, confirming that higher advertising spend is closely associated with increased daily sales.\\n'"
            ],
            "application/vnd.google.colaboratory.intrinsic+json": {
              "type": "string"
            }
          },
          "metadata": {},
          "execution_count": 7
        }
      ]
    },
    {
      "cell_type": "code",
      "source": [
        "# 9. Explain which summary statistics and visualizations you'd use to understand survey data. Write Python code to create a histogram.\n",
        "\n",
        "'''\n",
        "To understand customer satisfaction scores, it's important to compute summary statistics such as mean, median, and standard deviation to assess central tendency and variation.\n",
        " A histogram is an ideal visualization to observe how scores are distributed, revealing skewness or clustering.\n",
        "'''\n",
        "\n",
        "import matplotlib.pyplot as plt\n",
        "\n",
        "survey_scores = [7, 8, 5, 9, 6, 7, 8, 9, 10, 4, 7, 6, 9, 8, 7]\n",
        "\n",
        "plt.hist(survey_scores, bins=6, edgecolor='black')\n",
        "plt.title(\"Customer Satisfaction Histogram\")\n",
        "plt.xlabel(\"Satisfaction Score\")\n",
        "plt.ylabel(\"Frequency\")\n",
        "plt.show()\n",
        "print(\" \")\n",
        "\n",
        "'''\n",
        "Explanation:\n",
        "The histogram reveals the distribution pattern of the scores. In this case, scores appear to cluster around 7–9, indicating generally high satisfaction levels.\n",
        " Outliers like 4 may signal isolated dissatisfaction.\n",
        "'''"
      ],
      "metadata": {
        "colab": {
          "base_uri": "https://localhost:8080/",
          "height": 525
        },
        "id": "UVLEPVAlbEx9",
        "outputId": "a9434a79-2177-40f6-836a-55e96322d1f6"
      },
      "execution_count": 9,
      "outputs": [
        {
          "output_type": "display_data",
          "data": {
            "text/plain": [
              "<Figure size 640x480 with 1 Axes>"
            ],
            "image/png": "[encoded data removed]"
          },
          "metadata": {}
        },
        {
          "output_type": "stream",
          "name": "stdout",
          "text": [
            " \n"
          ]
        },
        {
          "output_type": "execute_result",
          "data": {
            "text/plain": [
              "'\\nExplanation:\\nThe histogram reveals the distribution pattern of the scores. In this case, scores appear to cluster around 7–9, indicating generally high satisfaction levels.\\n Outliers like 4 may signal isolated dissatisfaction.\\n'"
            ],
            "application/vnd.google.colaboratory.intrinsic+json": {
              "type": "string"
            }
          },
          "metadata": {},
          "execution_count": 9
        }
      ]
    }
  ]
}